{
  "nbformat": 4,
  "nbformat_minor": 0,
  "metadata": {
    "colab": {
      "name": "machine_learning_basic.ipynb",
      "version": "0.3.2",
      "provenance": [],
      "collapsed_sections": [],
      "include_colab_link": true
    },
    "kernelspec": {
      "name": "python3",
      "display_name": "Python 3"
    }
  },
  "cells": [
    {
      "cell_type": "markdown",
      "metadata": {
        "id": "view-in-github",
        "colab_type": "text"
      },
      "source": [
        "<a href=\"https://colab.research.google.com/github/fpocket-2017/machine-learning/blob/master/00_basic/machine_learning_basic.ipynb\" target=\"_parent\"><img src=\"https://colab.research.google.com/assets/colab-badge.svg\" alt=\"Open In Colab\"/></a>"
      ]
    },
    {
      "metadata": {
        "id": "7OWGCRNUpqhP",
        "colab_type": "text"
      },
      "cell_type": "markdown",
      "source": [
        "# 機械学習基礎"
      ]
    },
    {
      "metadata": {
        "id": "jNu97Kt9p9jr",
        "colab_type": "text"
      },
      "cell_type": "markdown",
      "source": [
        "## 学習\n",
        "コンピュータプログラムは，性能指標Pで測定されるタスクTにおける性能が経験Eにより改善される場合，そのタスクTのクラスおよび性能指標Pに関して経験Eから学習するといわれている(Mitchell(1997))"
      ]
    },
    {
      "metadata": {
        "id": "1LQ4J4-xqVRp",
        "colab_type": "text"
      },
      "cell_type": "markdown",
      "source": [
        "## モデル\n",
        "機械学習で用いられるモデルとして，以下の３種類がある．\n",
        "\n",
        "- 関数モデル\n",
        "- 生成モデル\n",
        "- 識別モデル"
      ]
    }
  ]
}